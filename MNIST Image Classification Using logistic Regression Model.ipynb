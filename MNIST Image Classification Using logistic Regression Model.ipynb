{
 "cells": [
  {
   "cell_type": "code",
   "execution_count": 1,
   "id": "75a09e77",
   "metadata": {},
   "outputs": [],
   "source": [
    "import torch\n",
    "import torchvision   #torchvision : library for images\n",
    "from torchvision.datasets import MNIST"
   ]
  },
  {
   "cell_type": "code",
   "execution_count": 2,
   "id": "040ce8df",
   "metadata": {
    "scrolled": true
   },
   "outputs": [],
   "source": [
    "dataset=MNIST(root='data/',download=True)"
   ]
  },
  {
   "cell_type": "code",
   "execution_count": 3,
   "id": "7f455ca2",
   "metadata": {},
   "outputs": [
    {
     "data": {
      "text/plain": [
       "Dataset MNIST\n",
       "    Number of datapoints: 60000\n",
       "    Root location: data/\n",
       "    Split: Train"
      ]
     },
     "execution_count": 3,
     "metadata": {},
     "output_type": "execute_result"
    }
   ],
   "source": [
    "dataset"
   ]
  },
  {
   "cell_type": "code",
   "execution_count": 4,
   "id": "b76bda31",
   "metadata": {},
   "outputs": [
    {
     "name": "stdout",
     "output_type": "stream",
     "text": [
      "60000\n",
      "<class 'torchvision.datasets.mnist.MNIST'>\n"
     ]
    }
   ],
   "source": [
    "print(len(dataset))\n",
    "print(type(dataset))"
   ]
  },
  {
   "cell_type": "raw",
   "id": "e7dddf87",
   "metadata": {},
   "source": [
    "The dataset has 60000 images which can be used to train the model. There is also an additional test set of 10000 images which can be created by passing train=False to the MNIST class."
   ]
  },
  {
   "cell_type": "code",
   "execution_count": 5,
   "id": "a2264783",
   "metadata": {},
   "outputs": [],
   "source": [
    "test_dataset=MNIST(root='data/',train=False)"
   ]
  },
  {
   "cell_type": "code",
   "execution_count": 6,
   "id": "01a6e19c",
   "metadata": {},
   "outputs": [
    {
     "data": {
      "text/plain": [
       "Dataset MNIST\n",
       "    Number of datapoints: 10000\n",
       "    Root location: data/\n",
       "    Split: Test"
      ]
     },
     "execution_count": 6,
     "metadata": {},
     "output_type": "execute_result"
    }
   ],
   "source": [
    "test_dataset"
   ]
  },
  {
   "cell_type": "code",
   "execution_count": 7,
   "id": "a90370ce",
   "metadata": {},
   "outputs": [
    {
     "data": {
      "text/plain": [
       "(<PIL.Image.Image image mode=L size=28x28>, 5)"
      ]
     },
     "execution_count": 7,
     "metadata": {},
     "output_type": "execute_result"
    }
   ],
   "source": [
    "# Look at a sample element from the training dataset\n",
    "# It's a pair, consisting of a 28x28px image and a label. \n",
    "# The image is an object of the class PIL.Image.Image, which is a part of \n",
    "# the Python imaging library Pillow. We can view the image within\n",
    "# Jupyter using matplotlib, the de-facto plotting and graphing library \n",
    "# for data science in Python.\n",
    "dataset[0]"
   ]
  },
  {
   "cell_type": "code",
   "execution_count": 8,
   "id": "e51ba09f",
   "metadata": {},
   "outputs": [],
   "source": [
    "import matplotlib.pyplot as plt\n",
    "%matplotlib inline"
   ]
  },
  {
   "cell_type": "code",
   "execution_count": 9,
   "id": "5b03f04d",
   "metadata": {},
   "outputs": [
    {
     "name": "stdout",
     "output_type": "stream",
     "text": [
      "Label: 3\n"
     ]
    },
    {
     "data": {
      "image/png": "[encoded data removed]",
      "text/plain": [
       "<Figure size 640x480 with 1 Axes>"
      ]
     },
     "metadata": {},
     "output_type": "display_data"
    }
   ],
   "source": [
    "image, label = dataset[10]\n",
    "plt.imshow(image, cmap='gray')\n",
    "print('Label:', label)"
   ]
  },
  {
   "cell_type": "code",
   "execution_count": 10,
   "id": "b171c296",
   "metadata": {},
   "outputs": [
    {
     "name": "stdout",
     "output_type": "stream",
     "text": [
      "Label: 2\n"
     ]
    },
    {
     "data": {
      "image/png": "[encoded data removed]",
      "text/plain": [
       "<Figure size 640x480 with 1 Axes>"
      ]
     },
     "metadata": {},
     "output_type": "display_data"
    }
   ],
   "source": [
    "image, label = dataset[5]\n",
    "plt.imshow(image, cmap='gray')\n",
    "print('Label:', label)"
   ]
  },
  {
   "cell_type": "raw",
   "id": "52369ab4",
   "metadata": {},
   "source": [
    "PyTorch doesn't know how to work with images. We need to convert the images into tensors. We can do this by specifying a transform while creating our dataset."
   ]
  },
  {
   "cell_type": "code",
   "execution_count": 11,
   "id": "d0e205f5",
   "metadata": {},
   "outputs": [],
   "source": [
    "import torchvision.transforms as transforms\n",
    "\n",
    "#PyTorch datasets allow us to specify one or more transformation function that are applied to the immages as they are loaded.\n",
    "# The torchvvision.transforms module contains many such predefine functions. \n",
    "# We'll use the ToTensor transform to convert images into PyTorch tensors."
   ]
  },
  {
   "cell_type": "code",
   "execution_count": 12,
   "id": "a38a6c78",
   "metadata": {},
   "outputs": [],
   "source": [
    "dataset=MNIST(root='data/', train=True, transform=transforms.ToTensor())"
   ]
  },
  {
   "cell_type": "code",
   "execution_count": 13,
   "id": "9502e566",
   "metadata": {},
   "outputs": [
    {
     "data": {
      "text/plain": [
       "Dataset MNIST\n",
       "    Number of datapoints: 60000\n",
       "    Root location: data/\n",
       "    Split: Train\n",
       "    StandardTransform\n",
       "Transform: ToTensor()"
      ]
     },
     "execution_count": 13,
     "metadata": {},
     "output_type": "execute_result"
    }
   ],
   "source": [
    "dataset"
   ]
  },
  {
   "cell_type": "code",
   "execution_count": 14,
   "id": "391330c9",
   "metadata": {},
   "outputs": [
    {
     "name": "stdout",
     "output_type": "stream",
     "text": [
      "torch.Size([1, 28, 28]) 2\n"
     ]
    }
   ],
   "source": [
    "img_tensor, label=dataset[5]\n",
    "print(img_tensor.shape, label)\n",
    "\n",
    "# The image is now converted to a 1*28*28 tensor. The first dimension tracks color channels.\n",
    "# The second and third dimensions represent pixels along the height and width of the image,\n",
    "# Since, images in the MNIST dataset are grayscale, theree's just one channel.\n",
    "# Other datasets have images with color, in which case there are three channels: red, green, and blue (RGB)."
   ]
  },
  {
   "cell_type": "code",
   "execution_count": 15,
   "id": "6cdacf2e",
   "metadata": {},
   "outputs": [
    {
     "name": "stdout",
     "output_type": "stream",
     "text": [
      "torch.Size([1, 28, 28]) 3\n"
     ]
    }
   ],
   "source": [
    "img_tensor, label=dataset[10]\n",
    "print(img_tensor.shape, label)"
   ]
  },
  {
   "cell_type": "code",
   "execution_count": 16,
   "id": "6a39ba0b",
   "metadata": {},
   "outputs": [
    {
     "data": {
      "text/plain": [
       "tensor([[[0.0000, 0.0000, 0.0000, 0.0000, 0.0000, 0.0000, 0.0000, 0.0000,\n",
       "          0.0000, 0.0000, 0.0000, 0.0000, 0.0000, 0.0000, 0.0000, 0.0000,\n",
       "          0.0000, 0.0000, 0.0000, 0.0000, 0.0000, 0.0000, 0.0000, 0.0000,\n",
       "          0.0000, 0.0000, 0.0000, 0.0000],\n",
       "         [0.0000, 0.0000, 0.0000, 0.0000, 0.0000, 0.0000, 0.0000, 0.0000,\n",
       "          0.0000, 0.0000, 0.0000, 0.0000, 0.0000, 0.0000, 0.0000, 0.0000,\n",
       "          0.0000, 0.0000, 0.0000, 0.0000, 0.0000, 0.0000, 0.0000, 0.0000,\n",
       "          0.0000, 0.0000, 0.0000, 0.0000],\n",
       "         [0.0000, 0.0000, 0.0000, 0.0000, 0.0000, 0.0000, 0.0000, 0.0000,\n",
       "          0.0000, 0.0000, 0.0000, 0.0000, 0.0000, 0.0000, 0.0000, 0.0000,\n",
       "          0.0000, 0.0000, 0.0000, 0.0000, 0.0000, 0.0000, 0.0000, 0.0000,\n",
       "          0.0000, 0.0000, 0.0000, 0.0000],\n",
       "         [0.0000, 0.0000, 0.0000, 0.0000, 0.0000, 0.0000, 0.0000, 0.0000,\n",
       "          0.0000, 0.0000, 0.0000, 0.0000, 0.0000, 0.0000, 0.0000, 0.0000,\n",
       "          0.0000, 0.0000, 0.0000, 0.0000, 0.0000, 0.0000, 0.0000, 0.0000,\n",
       "          0.0000, 0.0000, 0.0000, 0.0000],\n",
       "         [0.0000, 0.0000, 0.0000, 0.0000, 0.0000, 0.0000, 0.0000, 0.0000,\n",
       "          0.0000, 0.0000, 0.0000, 0.1647, 0.4627, 0.8588, 0.6510, 0.4627,\n",
       "          0.4627, 0.0235, 0.0000, 0.0000, 0.0000, 0.0000, 0.0000, 0.0000,\n",
       "          0.0000, 0.0000, 0.0000, 0.0000],\n",
       "         [0.0000, 0.0000, 0.0000, 0.0000, 0.0000, 0.0000, 0.0000, 0.0000,\n",
       "          0.0000, 0.0000, 0.4039, 0.9490, 0.9961, 0.9961, 0.9961, 0.9961,\n",
       "          0.9961, 0.2588, 0.0000, 0.0000, 0.0000, 0.0000, 0.0000, 0.0000,\n",
       "          0.0000, 0.0000, 0.0000, 0.0000],\n",
       "         [0.0000, 0.0000, 0.0000, 0.0000, 0.0000, 0.0000, 0.0000, 0.0000,\n",
       "          0.0000, 0.0000, 0.0706, 0.9098, 0.9961, 0.9961, 0.9961, 0.9961,\n",
       "          0.9961, 0.9333, 0.2745, 0.0000, 0.0000, 0.0000, 0.0000, 0.0000,\n",
       "          0.0000, 0.0000, 0.0000, 0.0000],\n",
       "         [0.0000, 0.0000, 0.0000, 0.0000, 0.0000, 0.0000, 0.0000, 0.0000,\n",
       "          0.0000, 0.0000, 0.0000, 0.4078, 0.9569, 0.9961, 0.8784, 0.9961,\n",
       "          0.9961, 0.9961, 0.5529, 0.0000, 0.0000, 0.0000, 0.0000, 0.0000,\n",
       "          0.0000, 0.0000, 0.0000, 0.0000],\n",
       "         [0.0000, 0.0000, 0.0000, 0.0000, 0.0000, 0.0000, 0.0000, 0.0000,\n",
       "          0.0000, 0.0000, 0.0000, 0.0000, 0.8118, 0.9961, 0.8235, 0.9961,\n",
       "          0.9961, 0.9961, 0.1333, 0.0000, 0.0000, 0.0000, 0.0000, 0.0000,\n",
       "          0.0000, 0.0000, 0.0000, 0.0000],\n",
       "         [0.0000, 0.0000, 0.0000, 0.0000, 0.0000, 0.0000, 0.0000, 0.0000,\n",
       "          0.0000, 0.0000, 0.0000, 0.0000, 0.3294, 0.8078, 0.9961, 0.9961,\n",
       "          0.9961, 0.9961, 0.1608, 0.0000, 0.0000, 0.0000, 0.0000, 0.0000,\n",
       "          0.0000, 0.0000, 0.0000, 0.0000],\n",
       "         [0.0000, 0.0000, 0.0000, 0.0000, 0.0000, 0.0000, 0.0000, 0.0000,\n",
       "          0.0000, 0.0000, 0.0000, 0.0000, 0.0000, 0.0941, 0.8196, 0.9961,\n",
       "          0.9961, 0.9961, 0.6706, 0.0000, 0.0000, 0.0000, 0.0000, 0.0000,\n",
       "          0.0000, 0.0000, 0.0000, 0.0000],\n",
       "         [0.0000, 0.0000, 0.0000, 0.0000, 0.0000, 0.0000, 0.0000, 0.0000,\n",
       "          0.0000, 0.0000, 0.0000, 0.0000, 0.3569, 0.5373, 0.9922, 0.9961,\n",
       "          0.9961, 0.9961, 0.4392, 0.0000, 0.0000, 0.0000, 0.0000, 0.0000,\n",
       "          0.0000, 0.0000, 0.0000, 0.0000],\n",
       "         [0.0000, 0.0000, 0.0000, 0.0000, 0.0000, 0.0000, 0.0000, 0.0000,\n",
       "          0.0000, 0.0000, 0.1569, 0.8392, 0.9804, 0.9961, 0.9961, 0.9961,\n",
       "          0.9961, 0.9961, 0.1333, 0.0000, 0.0000, 0.0000, 0.0000, 0.0000,\n",
       "          0.0000, 0.0000, 0.0000, 0.0000],\n",
       "         [0.0000, 0.0000, 0.0000, 0.0000, 0.0000, 0.0000, 0.0000, 0.0000,\n",
       "          0.0000, 0.0000, 0.3176, 0.9686, 0.9961, 0.9961, 0.9961, 0.9961,\n",
       "          0.9961, 0.9961, 0.5725, 0.0000, 0.0000, 0.0000, 0.0000, 0.0000,\n",
       "          0.0000, 0.0000, 0.0000, 0.0000],\n",
       "         [0.0000, 0.0000, 0.0000, 0.0000, 0.0000, 0.0000, 0.0000, 0.0000,\n",
       "          0.0000, 0.0000, 0.0000, 0.4314, 0.9647, 0.9961, 0.9961, 0.9961,\n",
       "          0.9961, 0.9961, 0.6706, 0.0000, 0.0000, 0.0000, 0.0000, 0.0000,\n",
       "          0.0000, 0.0000, 0.0000, 0.0000],\n",
       "         [0.0000, 0.0000, 0.0000, 0.0000, 0.0000, 0.0000, 0.0000, 0.0000,\n",
       "          0.0000, 0.0000, 0.0000, 0.0000, 0.2863, 0.3490, 0.3490, 0.3647,\n",
       "          0.9412, 0.9961, 0.6706, 0.0000, 0.0000, 0.0000, 0.0000, 0.0000,\n",
       "          0.0000, 0.0000, 0.0000, 0.0000],\n",
       "         [0.0000, 0.0000, 0.0000, 0.0000, 0.0000, 0.0000, 0.0000, 0.0000,\n",
       "          0.0000, 0.0000, 0.0000, 0.0000, 0.0000, 0.0000, 0.0000, 0.0039,\n",
       "          0.5020, 0.9961, 0.8588, 0.1216, 0.0000, 0.0000, 0.0000, 0.0000,\n",
       "          0.0000, 0.0000, 0.0000, 0.0000],\n",
       "         [0.0000, 0.0000, 0.0000, 0.0000, 0.0000, 0.0000, 0.0000, 0.0000,\n",
       "          0.0000, 0.0000, 0.0000, 0.0000, 0.0000, 0.0000, 0.0000, 0.0275,\n",
       "          0.9961, 0.9961, 0.8392, 0.1098, 0.0000, 0.0000, 0.0000, 0.0000,\n",
       "          0.0000, 0.0000, 0.0000, 0.0000],\n",
       "         [0.0000, 0.0000, 0.0000, 0.0000, 0.0000, 0.0000, 0.0000, 0.0000,\n",
       "          0.0000, 0.0000, 0.0000, 0.0000, 0.0000, 0.0000, 0.0000, 0.5412,\n",
       "          0.9961, 0.9961, 0.4549, 0.0000, 0.0000, 0.0000, 0.0000, 0.0000,\n",
       "          0.0000, 0.0000, 0.0000, 0.0000],\n",
       "         [0.0000, 0.0000, 0.0000, 0.0000, 0.0000, 0.0000, 0.0745, 0.6941,\n",
       "          0.3529, 0.0000, 0.0000, 0.0000, 0.0000, 0.0000, 0.0980, 0.9412,\n",
       "          0.9961, 0.9961, 0.1333, 0.0000, 0.0000, 0.0000, 0.0000, 0.0000,\n",
       "          0.0000, 0.0000, 0.0000, 0.0000],\n",
       "         [0.0000, 0.0000, 0.0000, 0.0000, 0.0000, 0.0000, 0.6431, 0.9961,\n",
       "          0.8431, 0.2471, 0.1412, 0.0000, 0.2000, 0.3490, 0.8078, 0.9961,\n",
       "          0.9961, 0.5451, 0.0314, 0.0000, 0.0000, 0.0000, 0.0000, 0.0000,\n",
       "          0.0000, 0.0000, 0.0000, 0.0000],\n",
       "         [0.0000, 0.0000, 0.0000, 0.0000, 0.0000, 0.0000, 0.2235, 0.7725,\n",
       "          0.9961, 0.9961, 0.8706, 0.7059, 0.9451, 0.9961, 0.9961, 0.9922,\n",
       "          0.8353, 0.0431, 0.0000, 0.0000, 0.0000, 0.0000, 0.0000, 0.0000,\n",
       "          0.0000, 0.0000, 0.0000, 0.0000],\n",
       "         [0.0000, 0.0000, 0.0000, 0.0000, 0.0000, 0.0000, 0.0000, 0.5490,\n",
       "          0.4118, 0.9961, 0.9961, 0.9961, 0.9961, 0.9961, 0.9961, 0.9255,\n",
       "          0.0000, 0.0000, 0.0000, 0.0000, 0.0000, 0.0000, 0.0000, 0.0000,\n",
       "          0.0000, 0.0000, 0.0000, 0.0000],\n",
       "         [0.0000, 0.0000, 0.0000, 0.0000, 0.0000, 0.0000, 0.0000, 0.0000,\n",
       "          0.0275, 0.4588, 0.4588, 0.6471, 0.9961, 0.9961, 0.9373, 0.1961,\n",
       "          0.0000, 0.0000, 0.0000, 0.0000, 0.0000, 0.0000, 0.0000, 0.0000,\n",
       "          0.0000, 0.0000, 0.0000, 0.0000],\n",
       "         [0.0000, 0.0000, 0.0000, 0.0000, 0.0000, 0.0000, 0.0000, 0.0000,\n",
       "          0.0000, 0.0000, 0.0000, 0.0000, 0.0000, 0.0000, 0.0000, 0.0000,\n",
       "          0.0000, 0.0000, 0.0000, 0.0000, 0.0000, 0.0000, 0.0000, 0.0000,\n",
       "          0.0000, 0.0000, 0.0000, 0.0000],\n",
       "         [0.0000, 0.0000, 0.0000, 0.0000, 0.0000, 0.0000, 0.0000, 0.0000,\n",
       "          0.0000, 0.0000, 0.0000, 0.0000, 0.0000, 0.0000, 0.0000, 0.0000,\n",
       "          0.0000, 0.0000, 0.0000, 0.0000, 0.0000, 0.0000, 0.0000, 0.0000,\n",
       "          0.0000, 0.0000, 0.0000, 0.0000],\n",
       "         [0.0000, 0.0000, 0.0000, 0.0000, 0.0000, 0.0000, 0.0000, 0.0000,\n",
       "          0.0000, 0.0000, 0.0000, 0.0000, 0.0000, 0.0000, 0.0000, 0.0000,\n",
       "          0.0000, 0.0000, 0.0000, 0.0000, 0.0000, 0.0000, 0.0000, 0.0000,\n",
       "          0.0000, 0.0000, 0.0000, 0.0000],\n",
       "         [0.0000, 0.0000, 0.0000, 0.0000, 0.0000, 0.0000, 0.0000, 0.0000,\n",
       "          0.0000, 0.0000, 0.0000, 0.0000, 0.0000, 0.0000, 0.0000, 0.0000,\n",
       "          0.0000, 0.0000, 0.0000, 0.0000, 0.0000, 0.0000, 0.0000, 0.0000,\n",
       "          0.0000, 0.0000, 0.0000, 0.0000]]])"
      ]
     },
     "execution_count": 16,
     "metadata": {},
     "output_type": "execute_result"
    }
   ],
   "source": [
    "img_tensor"
   ]
  },
  {
   "cell_type": "code",
   "execution_count": 17,
   "id": "834a0be3",
   "metadata": {},
   "outputs": [
    {
     "name": "stdout",
     "output_type": "stream",
     "text": [
      "tensor([[0.0000, 0.0000, 0.0000, 0.0941, 0.8196],\n",
      "        [0.0000, 0.0000, 0.3569, 0.5373, 0.9922],\n",
      "        [0.1569, 0.8392, 0.9804, 0.9961, 0.9961],\n",
      "        [0.3176, 0.9686, 0.9961, 0.9961, 0.9961],\n",
      "        [0.0000, 0.4314, 0.9647, 0.9961, 0.9961]])\n",
      "tensor(0.9961) tensor(0.)\n"
     ]
    }
   ],
   "source": [
    "print(img_tensor[0,10:15,10:15])\n",
    "print(torch.max(img_tensor), torch.min(img_tensor))\n",
    "\n",
    "\n",
    "# The values range from 0 to 1, with 0 representing black and 1 represent white.\n",
    "# The vvalues in between different shades of grey."
   ]
  },
  {
   "cell_type": "code",
   "execution_count": 18,
   "id": "09d44319",
   "metadata": {},
   "outputs": [
    {
     "data": {
      "text/plain": [
       "<matplotlib.image.AxesImage at 0x1c421116590>"
      ]
     },
     "execution_count": 18,
     "metadata": {},
     "output_type": "execute_result"
    },
    {
     "data": {
      "image/png": "[encoded data removed]",
      "text/plain": [
       "<Figure size 640x480 with 1 Axes>"
      ]
     },
     "metadata": {},
     "output_type": "display_data"
    }
   ],
   "source": [
    "plt.imshow(img_tensor[0,10:15,10:15], cmap='gray')"
   ]
  },
  {
   "cell_type": "raw",
   "id": "21ef7b7d",
   "metadata": {},
   "source": [
    "Training set - used to train the model, i.e., compute the loss and adjust the model's weights using gradient descent.\n",
    "\n",
    "Validation set - used to evaluate the model during training, adjust hyperparameters (learning rate, etc.), and pick the best version of the model.\n",
    "\n",
    "Test set - used to compare different models or approaches and report the model's final accuracy."
   ]
  },
  {
   "cell_type": "code",
   "execution_count": 19,
   "id": "8e710943",
   "metadata": {},
   "outputs": [
    {
     "name": "stdout",
     "output_type": "stream",
     "text": [
      "50000\n",
      "10000\n"
     ]
    }
   ],
   "source": [
    "from torch.utils.data import random_split\n",
    "\n",
    "train_ds, val_ds = random_split(dataset, [50000, 10000])\n",
    "print(len(train_ds))\n",
    "print(len(val_ds))"
   ]
  },
  {
   "cell_type": "code",
   "execution_count": 20,
   "id": "9c29bca6",
   "metadata": {},
   "outputs": [],
   "source": [
    "from torch.utils.data import DataLoader\n",
    "\n",
    "train_loader=DataLoader(train_ds, batch_size=128, shuffle=True)\n",
    "val_loader=DataLoader(val_ds, batch_size=128)"
   ]
  },
  {
   "cell_type": "raw",
   "id": "d7684494",
   "metadata": {},
   "source": [
    "We set shuffle=True for the training data loader to ensure that the batches generated in each epoch are different. This randomization helps generalize & speed up the training process. On the other hand, since the validation data loader is used only for evaluating the model, there is no need to shuffle the images."
   ]
  },
  {
   "cell_type": "markdown",
   "id": "b0272178",
   "metadata": {},
   "source": [
    "#### Model"
   ]
  },
  {
   "cell_type": "raw",
   "id": "4d60f698",
   "metadata": {},
   "source": [
    "A logistic regression model is almost identical to a linear regression model. It contains weights and bias matrices, and the output is obtained using simple matrix operations (pred = x @ w.t() + b). Uses the logistic function (sigmoid function) to model the probability: P(y=1) = 1 / (1 + exp(- (β0 + β1x1 + β2x2 + ... + βnxn))).\n",
    "\n",
    "for linear regression, we can use \"nn.Linear\" to create the model instead of manually creating and initializing the matrices.\n",
    "\n",
    "Since nn.Linear expects each training example to be a vector, each 1x28x28 image tensor is flattened into a vector of size 784 (28*28) before being passed into the model.\n",
    "\n",
    "The output for each image is a vector of size 10, with each element signifying the probability of a particular target label (i.e., 0 to 9). The predicted label for an image is simply the one with the highest probability."
   ]
  },
  {
   "cell_type": "code",
   "execution_count": 21,
   "id": "1dddb1b0",
   "metadata": {},
   "outputs": [],
   "source": [
    "import torch.nn as nn"
   ]
  },
  {
   "cell_type": "code",
   "execution_count": 22,
   "id": "4faefa92",
   "metadata": {},
   "outputs": [],
   "source": [
    "input_size=28*28\n",
    "num_classes=10\n",
    "\n",
    "model=nn.Linear(input_size, num_classes)"
   ]
  },
  {
   "cell_type": "code",
   "execution_count": 23,
   "id": "1e7fdbac",
   "metadata": {},
   "outputs": [
    {
     "name": "stdout",
     "output_type": "stream",
     "text": [
      "torch.Size([10, 784])\n"
     ]
    },
    {
     "data": {
      "text/plain": [
       "Parameter containing:\n",
       "tensor([[-0.0206, -0.0256,  0.0297,  ...,  0.0238,  0.0015, -0.0281],\n",
       "        [ 0.0263,  0.0267,  0.0077,  ...,  0.0065,  0.0125,  0.0147],\n",
       "        [ 0.0251,  0.0312, -0.0254,  ...,  0.0227, -0.0344,  0.0109],\n",
       "        ...,\n",
       "        [ 0.0105,  0.0283, -0.0185,  ..., -0.0116,  0.0029, -0.0236],\n",
       "        [ 0.0153, -0.0337,  0.0254,  ..., -0.0271, -0.0356, -0.0034],\n",
       "        [ 0.0341,  0.0167,  0.0026,  ..., -0.0266,  0.0215,  0.0085]],\n",
       "       requires_grad=True)"
      ]
     },
     "execution_count": 23,
     "metadata": {},
     "output_type": "execute_result"
    }
   ],
   "source": [
    "print(model.weight.shape)\n",
    "model.weight"
   ]
  },
  {
   "cell_type": "code",
   "execution_count": 24,
   "id": "222626f0",
   "metadata": {},
   "outputs": [
    {
     "name": "stdout",
     "output_type": "stream",
     "text": [
      "torch.Size([10])\n"
     ]
    },
    {
     "data": {
      "text/plain": [
       "Parameter containing:\n",
       "tensor([-0.0253, -0.0156,  0.0003, -0.0004,  0.0027,  0.0139, -0.0333,  0.0175,\n",
       "        -0.0110,  0.0023], requires_grad=True)"
      ]
     },
     "execution_count": 24,
     "metadata": {},
     "output_type": "execute_result"
    }
   ],
   "source": [
    "print(model.bias.shape)\n",
    "model.bias"
   ]
  },
  {
   "cell_type": "raw",
   "id": "c26bcb9b",
   "metadata": {},
   "source": [
    "Although there are a total of 7850 parameters here, conceptually, nothing has changed so far. Let's try and generate some outputs using our model. We'll take the first batch of 100 images from our dataset and pass them into our model."
   ]
  },
  {
   "cell_type": "code",
   "execution_count": 25,
   "id": "677dece9",
   "metadata": {},
   "outputs": [],
   "source": [
    "from PIL import Image\n",
    "\n",
    "class CustomDataset(torch.utils.data.Dataset):\n",
    "    def __init__(self, image_paths, labels, transform=None):\n",
    "        self.image_paths = image_paths\n",
    "        self.labels = labels\n",
    "        self.transform = transform\n",
    "\n",
    "    def __len__(self):\n",
    "        return len(self.image_paths)\n",
    "\n",
    "    def __getitem__(self, idx):\n",
    "        image = Image.open(self.image_paths[idx])\n",
    "        label = self.labels[idx]\n",
    "\n",
    "        if self.transform:\n",
    "            image = self.transform(image)\n",
    "        \n",
    "        return image, label"
   ]
  },
  {
   "cell_type": "code",
   "execution_count": 26,
   "id": "286a944f",
   "metadata": {},
   "outputs": [
    {
     "name": "stdout",
     "output_type": "stream",
     "text": [
      "tensor([7, 6, 9, 2, 9, 8, 2, 7, 6, 8, 9, 1, 7, 3, 7, 4, 1, 3, 5, 6, 6, 1, 8, 6,\n",
      "        4, 7, 4, 9, 1, 1, 1, 2, 0, 9, 0, 0, 0, 2, 8, 0, 9, 1, 1, 4, 3, 2, 7, 3,\n",
      "        7, 7, 0, 3, 1, 7, 8, 2, 2, 9, 7, 4, 0, 2, 3, 0, 4, 2, 0, 3, 3, 5, 2, 0,\n",
      "        6, 9, 7, 9, 8, 1, 1, 0, 4, 0, 3, 7, 3, 5, 0, 2, 6, 1, 1, 3, 6, 8, 4, 0,\n",
      "        4, 1, 0, 2, 4, 5, 3, 2, 8, 0, 9, 0, 2, 1, 5, 7, 7, 4, 6, 8, 0, 9, 7, 0,\n",
      "        0, 3, 9, 1, 1, 7, 8, 9])\n",
      "torch.Size([128, 1, 28, 28])\n"
     ]
    },
    {
     "ename": "RuntimeError",
     "evalue": "mat1 and mat2 shapes cannot be multiplied (3584x28 and 784x10)",
     "output_type": "error",
     "traceback": [
      "\u001b[1;31m---------------------------------------------------------------------------\u001b[0m",
      "\u001b[1;31mRuntimeError\u001b[0m                              Traceback (most recent call last)",
      "Cell \u001b[1;32mIn[26], line 4\u001b[0m\n\u001b[0;32m      2\u001b[0m \u001b[38;5;28mprint\u001b[39m(labels)\n\u001b[0;32m      3\u001b[0m \u001b[38;5;28mprint\u001b[39m(images\u001b[38;5;241m.\u001b[39mshape)\n\u001b[1;32m----> 4\u001b[0m outputs\u001b[38;5;241m=\u001b[39mmodel(images)\n\u001b[0;32m      5\u001b[0m \u001b[38;5;28mprint\u001b[39m(outputs)\n\u001b[0;32m      6\u001b[0m \u001b[38;5;28;01mbreak\u001b[39;00m\n",
      "File \u001b[1;32m~\\anaconda3\\Lib\\site-packages\\torch\\nn\\modules\\module.py:1553\u001b[0m, in \u001b[0;36mModule._wrapped_call_impl\u001b[1;34m(self, *args, **kwargs)\u001b[0m\n\u001b[0;32m   1551\u001b[0m     \u001b[38;5;28;01mreturn\u001b[39;00m \u001b[38;5;28mself\u001b[39m\u001b[38;5;241m.\u001b[39m_compiled_call_impl(\u001b[38;5;241m*\u001b[39margs, \u001b[38;5;241m*\u001b[39m\u001b[38;5;241m*\u001b[39mkwargs)  \u001b[38;5;66;03m# type: ignore[misc]\u001b[39;00m\n\u001b[0;32m   1552\u001b[0m \u001b[38;5;28;01melse\u001b[39;00m:\n\u001b[1;32m-> 1553\u001b[0m     \u001b[38;5;28;01mreturn\u001b[39;00m \u001b[38;5;28mself\u001b[39m\u001b[38;5;241m.\u001b[39m_call_impl(\u001b[38;5;241m*\u001b[39margs, \u001b[38;5;241m*\u001b[39m\u001b[38;5;241m*\u001b[39mkwargs)\n",
      "File \u001b[1;32m~\\anaconda3\\Lib\\site-packages\\torch\\nn\\modules\\module.py:1562\u001b[0m, in \u001b[0;36mModule._call_impl\u001b[1;34m(self, *args, **kwargs)\u001b[0m\n\u001b[0;32m   1557\u001b[0m \u001b[38;5;66;03m# If we don't have any hooks, we want to skip the rest of the logic in\u001b[39;00m\n\u001b[0;32m   1558\u001b[0m \u001b[38;5;66;03m# this function, and just call forward.\u001b[39;00m\n\u001b[0;32m   1559\u001b[0m \u001b[38;5;28;01mif\u001b[39;00m \u001b[38;5;129;01mnot\u001b[39;00m (\u001b[38;5;28mself\u001b[39m\u001b[38;5;241m.\u001b[39m_backward_hooks \u001b[38;5;129;01mor\u001b[39;00m \u001b[38;5;28mself\u001b[39m\u001b[38;5;241m.\u001b[39m_backward_pre_hooks \u001b[38;5;129;01mor\u001b[39;00m \u001b[38;5;28mself\u001b[39m\u001b[38;5;241m.\u001b[39m_forward_hooks \u001b[38;5;129;01mor\u001b[39;00m \u001b[38;5;28mself\u001b[39m\u001b[38;5;241m.\u001b[39m_forward_pre_hooks\n\u001b[0;32m   1560\u001b[0m         \u001b[38;5;129;01mor\u001b[39;00m _global_backward_pre_hooks \u001b[38;5;129;01mor\u001b[39;00m _global_backward_hooks\n\u001b[0;32m   1561\u001b[0m         \u001b[38;5;129;01mor\u001b[39;00m _global_forward_hooks \u001b[38;5;129;01mor\u001b[39;00m _global_forward_pre_hooks):\n\u001b[1;32m-> 1562\u001b[0m     \u001b[38;5;28;01mreturn\u001b[39;00m forward_call(\u001b[38;5;241m*\u001b[39margs, \u001b[38;5;241m*\u001b[39m\u001b[38;5;241m*\u001b[39mkwargs)\n\u001b[0;32m   1564\u001b[0m \u001b[38;5;28;01mtry\u001b[39;00m:\n\u001b[0;32m   1565\u001b[0m     result \u001b[38;5;241m=\u001b[39m \u001b[38;5;28;01mNone\u001b[39;00m\n",
      "File \u001b[1;32m~\\anaconda3\\Lib\\site-packages\\torch\\nn\\modules\\linear.py:117\u001b[0m, in \u001b[0;36mLinear.forward\u001b[1;34m(self, input)\u001b[0m\n\u001b[0;32m    116\u001b[0m \u001b[38;5;28;01mdef\u001b[39;00m \u001b[38;5;21mforward\u001b[39m(\u001b[38;5;28mself\u001b[39m, \u001b[38;5;28minput\u001b[39m: Tensor) \u001b[38;5;241m-\u001b[39m\u001b[38;5;241m>\u001b[39m Tensor:\n\u001b[1;32m--> 117\u001b[0m     \u001b[38;5;28;01mreturn\u001b[39;00m F\u001b[38;5;241m.\u001b[39mlinear(\u001b[38;5;28minput\u001b[39m, \u001b[38;5;28mself\u001b[39m\u001b[38;5;241m.\u001b[39mweight, \u001b[38;5;28mself\u001b[39m\u001b[38;5;241m.\u001b[39mbias)\n",
      "\u001b[1;31mRuntimeError\u001b[0m: mat1 and mat2 shapes cannot be multiplied (3584x28 and 784x10)"
     ]
    }
   ],
   "source": [
    "for images, labels in train_loader:\n",
    "    print(labels)\n",
    "    print(images.shape)\n",
    "    outputs=model(images)\n",
    "    print(outputs)\n",
    "    break"
   ]
  },
  {
   "cell_type": "code",
   "execution_count": 27,
   "id": "b6a3c274",
   "metadata": {},
   "outputs": [
    {
     "data": {
      "text/plain": [
       "torch.Size([128, 1, 28, 28])"
      ]
     },
     "execution_count": 27,
     "metadata": {},
     "output_type": "execute_result"
    }
   ],
   "source": [
    "images.shape"
   ]
  },
  {
   "cell_type": "code",
   "execution_count": 28,
   "id": "35e325c7",
   "metadata": {},
   "outputs": [
    {
     "data": {
      "text/plain": [
       "torch.Size([128, 784])"
      ]
     },
     "execution_count": 28,
     "metadata": {},
     "output_type": "execute_result"
    }
   ],
   "source": [
    "images.reshape(128,784).shape"
   ]
  },
  {
   "cell_type": "raw",
   "id": "5dfa1227",
   "metadata": {},
   "source": [
    "The code above leads to an error because our input data does not have the right shape. Our images are of the shape 1x28x28, but we need them to be vectors of size 784, i.e., we need to flatten them. We'll use the .reshape method of a tensor, which will allow us to efficiently 'view' each image as a flat vector without really creating a copy of the underlying data. To include this additional functionality within our model, we need to define a custom model by extending the nn.Module class from PyTorch."
   ]
  },
  {
   "cell_type": "code",
   "execution_count": 29,
   "id": "ddc714ca",
   "metadata": {},
   "outputs": [],
   "source": [
    "class MnistModel(nn.Module):\n",
    "    def __init__(self):\n",
    "        super().__init__()\n",
    "        self.linear=nn.Linear(input_size, num_classes)\n",
    "        \n",
    "        \n",
    "    def forward(self,xb):\n",
    "        xb=xb.reshape(-1,784)\n",
    "        out=self.linear(xb)\n",
    "        return out\n",
    "    \n",
    "model=MnistModel()"
   ]
  },
  {
   "cell_type": "raw",
   "id": "7977e935",
   "metadata": {},
   "source": [
    "Inside the __init__ constructor method, we instantiate the weights and biases using nn.Linear. And inside the forward method, which is invoked when we pass a batch of inputs to the model, we flatten the input tensor and pass it into self.linear.\n",
    "\n",
    "xb.reshape(-1, 28*28) indicates to PyTorch that we want a view of the xb tensor with two dimensions. The length along the 2nd dimension is 28*28 (i.e., 784). One argument to .reshape can be set to -1 (in this case, the first dimension) to let PyTorch figure it out automatically based on the shape of the original tensor.\n",
    "\n",
    "Note that the model no longer has .weight and .bias attributes (as they are now inside the .linear attribute), but it does have a .parameters method that returns a list containing the weights and bias."
   ]
  },
  {
   "cell_type": "code",
   "execution_count": 30,
   "id": "a0fc10ef",
   "metadata": {},
   "outputs": [
    {
     "data": {
      "text/plain": [
       "Linear(in_features=784, out_features=10, bias=True)"
      ]
     },
     "execution_count": 30,
     "metadata": {},
     "output_type": "execute_result"
    }
   ],
   "source": [
    "model.linear"
   ]
  },
  {
   "cell_type": "code",
   "execution_count": 31,
   "id": "30bb419b",
   "metadata": {},
   "outputs": [
    {
     "name": "stdout",
     "output_type": "stream",
     "text": [
      "torch.Size([10, 784]) torch.Size([10])\n"
     ]
    },
    {
     "data": {
      "text/plain": [
       "[Parameter containing:\n",
       " tensor([[-0.0071,  0.0274,  0.0069,  ..., -0.0346, -0.0268, -0.0230],\n",
       "         [ 0.0305,  0.0068,  0.0107,  ..., -0.0322, -0.0272,  0.0281],\n",
       "         [-0.0331, -0.0001,  0.0066,  ...,  0.0135, -0.0038,  0.0186],\n",
       "         ...,\n",
       "         [ 0.0085,  0.0293,  0.0179,  ...,  0.0026, -0.0230,  0.0028],\n",
       "         [ 0.0011, -0.0292,  0.0194,  ..., -0.0022, -0.0067, -0.0248],\n",
       "         [ 0.0013, -0.0230,  0.0147,  ...,  0.0138, -0.0059,  0.0162]],\n",
       "        requires_grad=True),\n",
       " Parameter containing:\n",
       " tensor([ 0.0089,  0.0021, -0.0119,  0.0191, -0.0118,  0.0300,  0.0300, -0.0007,\n",
       "          0.0194,  0.0313], requires_grad=True)]"
      ]
     },
     "execution_count": 31,
     "metadata": {},
     "output_type": "execute_result"
    }
   ],
   "source": [
    "print(model.linear.weight.shape, model.linear.bias.shape)\n",
    "list(model.parameters())"
   ]
  },
  {
   "cell_type": "code",
   "execution_count": 32,
   "id": "5d1ac3a9",
   "metadata": {},
   "outputs": [
    {
     "name": "stdout",
     "output_type": "stream",
     "text": [
      "tensor([9, 2, 2, 4, 3, 5, 8, 8, 6, 1, 5, 3, 6, 2, 2, 9, 9, 4, 5, 9, 0, 5, 4, 2,\n",
      "        3, 1, 8, 4, 3, 6, 1, 3, 9, 7, 7, 6, 2, 6, 4, 2, 5, 6, 1, 3, 6, 5, 8, 9,\n",
      "        2, 8, 9, 5, 9, 6, 0, 4, 8, 0, 3, 3, 1, 0, 2, 9, 7, 8, 0, 9, 7, 8, 3, 8,\n",
      "        9, 1, 9, 1, 8, 7, 1, 2, 5, 4, 5, 7, 4, 4, 7, 9, 3, 2, 4, 1, 4, 3, 5, 6,\n",
      "        5, 9, 2, 8, 4, 5, 0, 0, 9, 9, 4, 5, 2, 9, 9, 3, 6, 0, 2, 1, 5, 8, 1, 6,\n",
      "        7, 3, 6, 1, 8, 8, 5, 4])\n",
      "torch.Size([128, 1, 28, 28])\n",
      "tensor([[ 0.2552,  0.0696, -0.1319,  ...,  0.0781,  0.0484, -0.0283],\n",
      "        [ 0.0559,  0.0991, -0.2325,  ..., -0.0131,  0.1372,  0.3420],\n",
      "        [-0.0171,  0.1584,  0.0131,  ..., -0.0035,  0.3298,  0.1459],\n",
      "        ...,\n",
      "        [ 0.3325, -0.1579,  0.1014,  ...,  0.1176, -0.0830, -0.0467],\n",
      "        [ 0.3809,  0.3918, -0.1172,  ...,  0.1005, -0.2137,  0.1385],\n",
      "        [ 0.1150, -0.2377,  0.2547,  ...,  0.1929,  0.1454,  0.0886]],\n",
      "       grad_fn=<AddmmBackward0>)\n",
      "torch.Size([128, 10])\n",
      "Sample outputs :\n",
      " tensor([[ 0.2552,  0.0696, -0.1319, -0.0208,  0.4815,  0.0491,  0.0208,  0.0781,\n",
      "          0.0484, -0.0283],\n",
      "        [ 0.0559,  0.0991, -0.2325, -0.0925,  0.2346, -0.2924,  0.0071, -0.0131,\n",
      "          0.1372,  0.3420]])\n"
     ]
    }
   ],
   "source": [
    "for images, labels in train_loader:\n",
    "    print(labels)\n",
    "    print(images.shape)\n",
    "    outputs=model(images)\n",
    "    print(outputs)\n",
    "    break\n",
    "    \n",
    "print(outputs.shape)\n",
    "print('Sample outputs :\\n', outputs[:2].data)"
   ]
  },
  {
   "cell_type": "code",
   "execution_count": 33,
   "id": "89af2f0d",
   "metadata": {},
   "outputs": [],
   "source": [
    "import torch.nn.functional as F\n",
    "\n",
    "# The softmax function is included in the torch.nn.functional \n",
    "# package and requires us to specify a dimension along which the \n",
    "# function should be applied."
   ]
  },
  {
   "cell_type": "code",
   "execution_count": 34,
   "id": "e58bf91f",
   "metadata": {},
   "outputs": [
    {
     "data": {
      "text/plain": [
       "tensor([[ 0.2552,  0.0696, -0.1319, -0.0208,  0.4815,  0.0491,  0.0208,  0.0781,\n",
       "          0.0484, -0.0283],\n",
       "        [ 0.0559,  0.0991, -0.2325, -0.0925,  0.2346, -0.2924,  0.0071, -0.0131,\n",
       "          0.1372,  0.3420]], grad_fn=<SliceBackward0>)"
      ]
     },
     "execution_count": 34,
     "metadata": {},
     "output_type": "execute_result"
    }
   ],
   "source": [
    "outputs[:2]"
   ]
  },
  {
   "cell_type": "code",
   "execution_count": 35,
   "id": "37f5b754",
   "metadata": {},
   "outputs": [
    {
     "name": "stdout",
     "output_type": "stream",
     "text": [
      "Sample probabilities:\n",
      " tensor([[0.1172, 0.0974, 0.0796, 0.0889, 0.1470, 0.0954, 0.0927, 0.0982, 0.0953,\n",
      "         0.0883],\n",
      "        [0.1014, 0.1059, 0.0760, 0.0874, 0.1213, 0.0716, 0.0966, 0.0947, 0.1100,\n",
      "         0.1350]])\n",
      "Sum:  1.0\n"
     ]
    }
   ],
   "source": [
    "# Apply softmax for each output row\n",
    "probs = F.softmax(outputs, dim=1)\n",
    "\n",
    "# Look at sample probabilities\n",
    "print(\"Sample probabilities:\\n\", probs[:2].data)\n",
    "\n",
    "# Add up the probabilities of an output row\n",
    "print(\"Sum: \", torch.sum(probs[0]).item())"
   ]
  },
  {
   "cell_type": "code",
   "execution_count": 36,
   "id": "803b7af9",
   "metadata": {},
   "outputs": [
    {
     "name": "stdout",
     "output_type": "stream",
     "text": [
      "tensor([4, 9, 4, 4, 4, 0, 4, 4, 4, 7, 9, 4, 9, 1, 4, 9, 4, 7, 4, 4, 0, 6, 8, 4,\n",
      "        4, 8, 4, 4, 8, 4, 8, 4, 4, 4, 4, 4, 4, 9, 4, 4, 4, 9, 7, 4, 4, 4, 4, 0,\n",
      "        1, 4, 8, 4, 8, 9, 5, 4, 4, 0, 4, 9, 8, 4, 0, 4, 4, 0, 4, 4, 6, 4, 9, 4,\n",
      "        9, 8, 4, 7, 9, 4, 8, 9, 7, 4, 1, 9, 4, 4, 4, 8, 4, 8, 8, 7, 6, 4, 4, 4,\n",
      "        8, 4, 4, 4, 8, 4, 4, 0, 8, 7, 4, 9, 8, 8, 4, 6, 4, 9, 8, 8, 9, 8, 0, 4,\n",
      "        9, 4, 9, 8, 4, 0, 1, 4])\n",
      "tensor([0.1470, 0.1350, 0.1321, 0.1383, 0.1314, 0.1135, 0.1300, 0.1290, 0.1373,\n",
      "        0.1203, 0.1379, 0.1164, 0.1235, 0.1365, 0.1347, 0.1381, 0.1676, 0.1227,\n",
      "        0.1318, 0.1249, 0.1222, 0.1235, 0.1424, 0.1528, 0.1190, 0.1247, 0.1372,\n",
      "        0.1315, 0.1315, 0.1160, 0.1168, 0.1499, 0.1341, 0.1289, 0.1242, 0.1411,\n",
      "        0.1269, 0.1213, 0.1225, 0.1386, 0.1216, 0.1333, 0.1240, 0.1262, 0.1231,\n",
      "        0.1183, 0.1573, 0.1113, 0.1308, 0.1532, 0.1228, 0.1470, 0.1459, 0.1443,\n",
      "        0.1208, 0.1336, 0.1460, 0.1284, 0.1307, 0.1175, 0.1235, 0.1438, 0.1329,\n",
      "        0.1425, 0.1234, 0.1135, 0.1523, 0.1183, 0.1206, 0.1278, 0.1329, 0.1737,\n",
      "        0.1423, 0.1165, 0.1232, 0.1204, 0.1143, 0.1324, 0.1175, 0.1535, 0.1271,\n",
      "        0.1314, 0.1448, 0.1209, 0.1324, 0.1541, 0.1266, 0.1179, 0.1154, 0.1396,\n",
      "        0.1251, 0.1102, 0.1109, 0.1337, 0.1132, 0.1279, 0.1232, 0.1330, 0.1320,\n",
      "        0.1479, 0.1465, 0.1148, 0.1402, 0.1517, 0.1123, 0.1248, 0.1513, 0.1231,\n",
      "        0.1397, 0.1246, 0.1206, 0.1151, 0.1248, 0.1219, 0.1459, 0.1300, 0.1189,\n",
      "        0.1214, 0.1154, 0.1462, 0.1434, 0.1382, 0.1599, 0.1202, 0.1215, 0.1322,\n",
      "        0.1318, 0.1614], grad_fn=<MaxBackward0>)\n"
     ]
    }
   ],
   "source": [
    "max_probs, preds =torch.max(probs, dim=1)\n",
    "print(preds)\n",
    "print(max_probs)"
   ]
  },
  {
   "cell_type": "code",
   "execution_count": 37,
   "id": "970a9588",
   "metadata": {},
   "outputs": [
    {
     "data": {
      "text/plain": [
       "tensor([9, 2, 2, 4, 3, 5, 8, 8, 6, 1, 5, 3, 6, 2, 2, 9, 9, 4, 5, 9, 0, 5, 4, 2,\n",
       "        3, 1, 8, 4, 3, 6, 1, 3, 9, 7, 7, 6, 2, 6, 4, 2, 5, 6, 1, 3, 6, 5, 8, 9,\n",
       "        2, 8, 9, 5, 9, 6, 0, 4, 8, 0, 3, 3, 1, 0, 2, 9, 7, 8, 0, 9, 7, 8, 3, 8,\n",
       "        9, 1, 9, 1, 8, 7, 1, 2, 5, 4, 5, 7, 4, 4, 7, 9, 3, 2, 4, 1, 4, 3, 5, 6,\n",
       "        5, 9, 2, 8, 4, 5, 0, 0, 9, 9, 4, 5, 2, 9, 9, 3, 6, 0, 2, 1, 5, 8, 1, 6,\n",
       "        7, 3, 6, 1, 8, 8, 5, 4])"
      ]
     },
     "execution_count": 37,
     "metadata": {},
     "output_type": "execute_result"
    }
   ],
   "source": [
    "labels"
   ]
  },
  {
   "cell_type": "raw",
   "id": "0da4bab8",
   "metadata": {},
   "source": [
    "Most of the predicted labels are different from the actual labels. That's because we have started with randomly initialized weights and biases. We need to train the model, i.e., adjust the weights using gradient descent to make better predictions."
   ]
  },
  {
   "cell_type": "markdown",
   "id": "46f36ddd",
   "metadata": {},
   "source": [
    "#### Evaluation Metric and Loss Function"
   ]
  },
  {
   "cell_type": "code",
   "execution_count": 38,
   "id": "a530c8ba",
   "metadata": {},
   "outputs": [
    {
     "data": {
      "text/plain": [
       "tensor([[ 0.2552,  0.0696, -0.1319, -0.0208,  0.4815,  0.0491,  0.0208,  0.0781,\n",
       "          0.0484, -0.0283],\n",
       "        [ 0.0559,  0.0991, -0.2325, -0.0925,  0.2346, -0.2924,  0.0071, -0.0131,\n",
       "          0.1372,  0.3420]], grad_fn=<SliceBackward0>)"
      ]
     },
     "execution_count": 38,
     "metadata": {},
     "output_type": "execute_result"
    }
   ],
   "source": [
    "outputs[:2]"
   ]
  },
  {
   "cell_type": "code",
   "execution_count": 39,
   "id": "7c025646",
   "metadata": {},
   "outputs": [
    {
     "data": {
      "text/plain": [
       "tensor([False, False, False,  True, False, False, False, False, False, False,\n",
       "        False, False, False, False, False,  True, False, False, False, False,\n",
       "         True, False, False, False, False, False, False,  True, False, False,\n",
       "        False, False, False, False, False, False, False, False,  True, False,\n",
       "        False, False, False, False, False, False, False, False, False, False,\n",
       "        False, False, False, False, False,  True, False,  True, False, False,\n",
       "        False, False, False, False, False, False, False, False, False, False,\n",
       "        False, False,  True, False, False, False, False, False, False, False,\n",
       "        False,  True, False, False,  True,  True, False, False, False, False,\n",
       "        False, False, False, False, False, False, False, False, False, False,\n",
       "        False, False, False,  True, False, False,  True, False, False, False,\n",
       "        False, False, False, False, False, False, False,  True, False, False,\n",
       "        False, False, False, False, False, False, False,  True])"
      ]
     },
     "execution_count": 39,
     "metadata": {},
     "output_type": "execute_result"
    }
   ],
   "source": [
    "preds==labels"
   ]
  },
  {
   "cell_type": "code",
   "execution_count": 40,
   "id": "dea2d80a",
   "metadata": {},
   "outputs": [
    {
     "data": {
      "text/plain": [
       "tensor(15)"
      ]
     },
     "execution_count": 40,
     "metadata": {},
     "output_type": "execute_result"
    }
   ],
   "source": [
    "torch.sum(preds==labels)"
   ]
  },
  {
   "cell_type": "code",
   "execution_count": 41,
   "id": "b9073ce2",
   "metadata": {},
   "outputs": [],
   "source": [
    "def accuracy(outputs, labels):\n",
    "    _, preds = torch.max(outputs, dim=1)\n",
    "    return torch.tensor(torch.sum(preds==labels).item()/len(preds))"
   ]
  },
  {
   "cell_type": "raw",
   "id": "d5c2d636",
   "metadata": {},
   "source": [
    "The == operator performs an element-wise comparison of two tensors with the same shape and returns a tensor of the same shape, containing True for unequal elements and False for equal elements. Passing the result to torch.sum returns the number of labels that were predicted correctly. Finally, we divide by the total number of images to get the accuracy.\n",
    "\n",
    "Note that we don't need to apply softmax to the outputs since its results have the same relative order. This is because e^x is an increasing function, i.e., if y1 > y2, then e^y1 > e^y2. The same holds after averaging out the values to get the softmax."
   ]
  },
  {
   "cell_type": "code",
   "execution_count": 42,
   "id": "081fa6e0",
   "metadata": {},
   "outputs": [
    {
     "data": {
      "text/plain": [
       "tensor(0.1172)"
      ]
     },
     "execution_count": 42,
     "metadata": {},
     "output_type": "execute_result"
    }
   ],
   "source": [
    "accuracy(outputs, labels)"
   ]
  },
  {
   "cell_type": "code",
   "execution_count": 43,
   "id": "f422494f",
   "metadata": {},
   "outputs": [
    {
     "data": {
      "text/plain": [
       "tensor([[0.1172, 0.0974, 0.0796,  ..., 0.0982, 0.0953, 0.0883],\n",
       "        [0.1014, 0.1059, 0.0760,  ..., 0.0947, 0.1100, 0.1350],\n",
       "        [0.0925, 0.1102, 0.0953,  ..., 0.0938, 0.1308, 0.1089],\n",
       "        ...,\n",
       "        [0.1322, 0.0809, 0.1049,  ..., 0.1066, 0.0872, 0.0905],\n",
       "        [0.1304, 0.1318, 0.0792,  ..., 0.0985, 0.0720, 0.1023],\n",
       "        [0.1054, 0.0741, 0.1212,  ..., 0.1140, 0.1087, 0.1027]],\n",
       "       grad_fn=<SoftmaxBackward0>)"
      ]
     },
     "execution_count": 43,
     "metadata": {},
     "output_type": "execute_result"
    }
   ],
   "source": [
    "probs"
   ]
  },
  {
   "cell_type": "raw",
   "id": "e504357a",
   "metadata": {},
   "source": [
    " A commonly used loss function for classification problems is the cross-entropy, which has the following formula:"
   ]
  },
  {
   "cell_type": "code",
   "execution_count": 44,
   "id": "f887e5fa",
   "metadata": {},
   "outputs": [
    {
     "data": {
      "text/plain": [
       "tensor([[ 0.2552,  0.0696, -0.1319,  ...,  0.0781,  0.0484, -0.0283],\n",
       "        [ 0.0559,  0.0991, -0.2325,  ..., -0.0131,  0.1372,  0.3420],\n",
       "        [-0.0171,  0.1584,  0.0131,  ..., -0.0035,  0.3298,  0.1459],\n",
       "        ...,\n",
       "        [ 0.3325, -0.1579,  0.1014,  ...,  0.1176, -0.0830, -0.0467],\n",
       "        [ 0.3809,  0.3918, -0.1172,  ...,  0.1005, -0.2137,  0.1385],\n",
       "        [ 0.1150, -0.2377,  0.2547,  ...,  0.1929,  0.1454,  0.0886]],\n",
       "       grad_fn=<AddmmBackward0>)"
      ]
     },
     "execution_count": 44,
     "metadata": {},
     "output_type": "execute_result"
    }
   ],
   "source": [
    "outputs"
   ]
  },
  {
   "cell_type": "code",
   "execution_count": 45,
   "id": "abdabdda",
   "metadata": {},
   "outputs": [],
   "source": [
    "loss_fn = F.cross_entropy"
   ]
  },
  {
   "cell_type": "code",
   "execution_count": 46,
   "id": "9eae8c2e",
   "metadata": {},
   "outputs": [
    {
     "name": "stdout",
     "output_type": "stream",
     "text": [
      "tensor(2.2875, grad_fn=<NllLossBackward0>)\n"
     ]
    }
   ],
   "source": [
    "# Loss for current batch of data\n",
    "loss = loss_fn(outputs, labels)\n",
    "print(loss)"
   ]
  },
  {
   "cell_type": "raw",
   "id": "b4c963a5",
   "metadata": {},
   "source": [
    "# Training the Model\n",
    "\n",
    "for epoch in range(num_epochs):\n",
    "    # Training phase\n",
    "    for batch in train_loader:\n",
    "        # Generate predictions\n",
    "        # Calculate loss\n",
    "        # Compute gradients\n",
    "        # Update weights\n",
    "        # Reset gradients\n",
    "    \n",
    "    # Validation phase\n",
    "    for batch in val_loader:\n",
    "        # Generate predictions\n",
    "        # Calculate loss\n",
    "        # Calculate metrics (accuracy etc.)\n",
    "    # Calculate average validation loss & metrics\n",
    "    \n",
    "    # Log epoch, loss & metrics for inspection"
   ]
  },
  {
   "cell_type": "code",
   "execution_count": 47,
   "id": "b35bc031",
   "metadata": {},
   "outputs": [],
   "source": [
    "def fit(epochs, lr, model, train_loader, val_loader, opt_func=torch.optim.SGD):\n",
    "    optimizer=opt_func(model.parameters(), lr)\n",
    "    history=[]\n",
    "    \n",
    "    for epoch in range(epochs):\n",
    "        for batch in train_loader:           #training phase\n",
    "            loss=model.training_step(batch)\n",
    "            loss.backward()\n",
    "            optimizer.step()\n",
    "            optimizer.zero_grad()\n",
    "            \n",
    "            \n",
    "        result=evaluate(model,val_loader)        # validation phase\n",
    "        model.epoch_end(epoch,result)\n",
    "        history.append(result)\n",
    "        \n",
    "    return history"
   ]
  },
  {
   "cell_type": "code",
   "execution_count": 49,
   "id": "9cb05848",
   "metadata": {},
   "outputs": [],
   "source": [
    "def evaluate(model, val_loader):\n",
    "    outputs = [model.validation_step(batch) for batch in val_loader]\n",
    "    return model.validation_epoch_end(outputs)"
   ]
  },
  {
   "cell_type": "code",
   "execution_count": 51,
   "id": "c9c4249d",
   "metadata": {},
   "outputs": [],
   "source": [
    "class MnistModel(nn.Module):\n",
    "    def __init__(self):\n",
    "        super().__init__()\n",
    "        self.linear = nn.Linear(input_size, num_classes)\n",
    "        \n",
    "    def forward(self, xb):\n",
    "        xb = xb.reshape(-1, 784)\n",
    "        out = self.linear(xb)\n",
    "        return out\n",
    "    \n",
    "    def training_step(self, batch):\n",
    "        images, labels = batch \n",
    "        out = self(images)                  # Generate predictions\n",
    "        loss = F.cross_entropy(out, labels) # Calculate loss\n",
    "        return loss\n",
    "    \n",
    "    def validation_step(self, batch):\n",
    "        images, labels = batch \n",
    "        out = self(images)                    # Generate predictions\n",
    "        loss = F.cross_entropy(out, labels)   # Calculate loss\n",
    "        acc = accuracy(out, labels)           # Calculate accuracy\n",
    "        return {'val_loss': loss, 'val_acc': acc}\n",
    "        \n",
    "    def validation_epoch_end(self, outputs):\n",
    "        batch_losses = [x['val_loss'] for x in outputs]\n",
    "        epoch_loss = torch.stack(batch_losses).mean()   # Combine losses\n",
    "        batch_accs = [x['val_acc'] for x in outputs]\n",
    "        epoch_acc = torch.stack(batch_accs).mean()      # Combine accuracies\n",
    "        return {'val_loss': epoch_loss.item(), 'val_acc': epoch_acc.item()}\n",
    "    \n",
    "    def epoch_end(self, epoch, result):\n",
    "        print(\"Epoch [{}], val_loss: {:.4f}, val_acc: {:.4f}\".format(epoch, result['val_loss'], result['val_acc']))\n",
    "    \n",
    "model = MnistModel()"
   ]
  },
  {
   "cell_type": "code",
   "execution_count": 52,
   "id": "629e6d4a",
   "metadata": {},
   "outputs": [
    {
     "data": {
      "text/plain": [
       "{'val_loss': 2.33437442779541, 'val_acc': 0.07634493708610535}"
      ]
     },
     "execution_count": 52,
     "metadata": {},
     "output_type": "execute_result"
    }
   ],
   "source": [
    "result0=evaluate(model,val_loader)\n",
    "result0"
   ]
  },
  {
   "cell_type": "code",
   "execution_count": 53,
   "id": "1ffef38b",
   "metadata": {},
   "outputs": [
    {
     "name": "stdout",
     "output_type": "stream",
     "text": [
      "Epoch [0], val_loss: 1.9700, val_acc: 0.5726\n",
      "Epoch [1], val_loss: 1.7008, val_acc: 0.6952\n",
      "Epoch [2], val_loss: 1.4986, val_acc: 0.7416\n",
      "Epoch [3], val_loss: 1.3454, val_acc: 0.7656\n",
      "Epoch [4], val_loss: 1.2273, val_acc: 0.7841\n"
     ]
    }
   ],
   "source": [
    "history1=fit(5, 0.001, model, train_loader, val_loader)"
   ]
  },
  {
   "cell_type": "code",
   "execution_count": 56,
   "id": "285ec4ad",
   "metadata": {},
   "outputs": [
    {
     "name": "stdout",
     "output_type": "stream",
     "text": [
      "Epoch [0], val_loss: 0.8570, val_acc: 0.8291\n",
      "Epoch [1], val_loss: 0.8265, val_acc: 0.8333\n",
      "Epoch [2], val_loss: 0.7996, val_acc: 0.8367\n",
      "Epoch [3], val_loss: 0.7759, val_acc: 0.8392\n",
      "Epoch [4], val_loss: 0.7547, val_acc: 0.8417\n"
     ]
    },
    {
     "data": {
      "text/plain": [
       "[{'val_loss': 0.8569812774658203, 'val_acc': 0.8291139006614685},\n",
       " {'val_loss': 0.82645583152771, 'val_acc': 0.8332673907279968},\n",
       " {'val_loss': 0.7996311187744141, 'val_acc': 0.8367286324501038},\n",
       " {'val_loss': 0.7758920192718506, 'val_acc': 0.8392009735107422},\n",
       " {'val_loss': 0.75467848777771, 'val_acc': 0.8416732549667358}]"
      ]
     },
     "execution_count": 56,
     "metadata": {},
     "output_type": "execute_result"
    }
   ],
   "source": [
    "history2=fit(5,0.001,model,train_loader,val_loader)\n",
    "history2"
   ]
  },
  {
   "cell_type": "code",
   "execution_count": 57,
   "id": "fa2da826",
   "metadata": {},
   "outputs": [
    {
     "name": "stdout",
     "output_type": "stream",
     "text": [
      "Epoch [0], val_loss: 0.7356, val_acc: 0.8442\n",
      "Epoch [1], val_loss: 0.7184, val_acc: 0.8457\n",
      "Epoch [2], val_loss: 0.7027, val_acc: 0.8474\n",
      "Epoch [3], val_loss: 0.6884, val_acc: 0.8488\n",
      "Epoch [4], val_loss: 0.6752, val_acc: 0.8514\n"
     ]
    },
    {
     "data": {
      "text/plain": [
       "[{'val_loss': 0.7356306910514832, 'val_acc': 0.8442444801330566},\n",
       " {'val_loss': 0.7183539271354675, 'val_acc': 0.8457278609275818},\n",
       " {'val_loss': 0.7026906609535217, 'val_acc': 0.8474090099334717},\n",
       " {'val_loss': 0.6883611083030701, 'val_acc': 0.8487935066223145},\n",
       " {'val_loss': 0.675224781036377, 'val_acc': 0.8513647317886353}]"
      ]
     },
     "execution_count": 57,
     "metadata": {},
     "output_type": "execute_result"
    }
   ],
   "source": [
    "history3=fit(5,0.001,model,train_loader,val_loader)\n",
    "history3"
   ]
  },
  {
   "cell_type": "code",
   "execution_count": 58,
   "id": "9245895d",
   "metadata": {},
   "outputs": [
    {
     "name": "stdout",
     "output_type": "stream",
     "text": [
      "Epoch [0], val_loss: 0.6631, val_acc: 0.8521\n",
      "Epoch [1], val_loss: 0.6519, val_acc: 0.8533\n",
      "Epoch [2], val_loss: 0.6415, val_acc: 0.8549\n",
      "Epoch [3], val_loss: 0.6318, val_acc: 0.8560\n",
      "Epoch [4], val_loss: 0.6228, val_acc: 0.8572\n"
     ]
    },
    {
     "data": {
      "text/plain": [
       "[{'val_loss': 0.66313636302948, 'val_acc': 0.8520569801330566},\n",
       " {'val_loss': 0.6518996953964233, 'val_acc': 0.853342592716217},\n",
       " {'val_loss': 0.6415140628814697, 'val_acc': 0.8549248576164246},\n",
       " {'val_loss': 0.6318265795707703, 'val_acc': 0.8560126423835754},\n",
       " {'val_loss': 0.6227557063102722, 'val_acc': 0.8571993708610535}]"
      ]
     },
     "execution_count": 58,
     "metadata": {},
     "output_type": "execute_result"
    }
   ],
   "source": [
    "history4=fit(5,0.001,model,train_loader,val_loader)\n",
    "history4"
   ]
  },
  {
   "cell_type": "code",
   "execution_count": 59,
   "id": "b6849d7b",
   "metadata": {},
   "outputs": [
    {
     "data": {
      "text/plain": [
       "Text(0.5, 1.0, 'Accuracy vs. No. of epochs')"
      ]
     },
     "execution_count": 59,
     "metadata": {},
     "output_type": "execute_result"
    },
    {
     "data": {
      "image/png": "[encoded data removed]",
      "text/plain": [
       "<Figure size 640x480 with 1 Axes>"
      ]
     },
     "metadata": {},
     "output_type": "display_data"
    }
   ],
   "source": [
    "history=[result0]+history1+history2+history3+history4\n",
    "accuracies=[result['val_acc'] for result in history]\n",
    "plt.plot(accuracies,'-x')\n",
    "plt.xlabel('epoch')\n",
    "plt.ylabel('accuarcy')\n",
    "plt.title('Accuracy vs. No. of epochs')"
   ]
  },
  {
   "cell_type": "code",
   "execution_count": 60,
   "id": "00b49206",
   "metadata": {},
   "outputs": [],
   "source": [
    "# Testing with individual images"
   ]
  },
  {
   "cell_type": "code",
   "execution_count": 61,
   "id": "ad44496e",
   "metadata": {},
   "outputs": [],
   "source": [
    "test_dataset=MNIST(root='data/',train=False,transform=transforms.ToTensor())"
   ]
  },
  {
   "cell_type": "code",
   "execution_count": 66,
   "id": "28a57d6a",
   "metadata": {},
   "outputs": [
    {
     "name": "stdout",
     "output_type": "stream",
     "text": [
      "torch.Size([1, 28, 28])\n",
      "1\n"
     ]
    },
    {
     "data": {
      "image/png": "[encoded data removed]",
      "text/plain": [
       "<Figure size 640x480 with 1 Axes>"
      ]
     },
     "metadata": {},
     "output_type": "display_data"
    }
   ],
   "source": [
    "img,label=test_dataset[5]\n",
    "plt.imshow(img[0],cmap='gray')\n",
    "print(img.shape)\n",
    "print(label)"
   ]
  },
  {
   "cell_type": "code",
   "execution_count": 67,
   "id": "b3e65e41",
   "metadata": {},
   "outputs": [
    {
     "name": "stdout",
     "output_type": "stream",
     "text": [
      "torch.Size([1, 28, 28])\n",
      "7\n"
     ]
    },
    {
     "data": {
      "image/png": "[encoded data removed]",
      "text/plain": [
       "<Figure size 640x480 with 1 Axes>"
      ]
     },
     "metadata": {},
     "output_type": "display_data"
    }
   ],
   "source": [
    "img,label=test_dataset[0]\n",
    "plt.imshow(img[0],cmap='gray')\n",
    "print(img.shape)\n",
    "print(label)"
   ]
  },
  {
   "cell_type": "code",
   "execution_count": 68,
   "id": "b447623a",
   "metadata": {},
   "outputs": [],
   "source": [
    "def predict_image(img, model):\n",
    "    xb = img.unsqueeze(0)\n",
    "    yb = model(xb)\n",
    "    _, preds = torch.max(yb, dim=1)\n",
    "    return preds[0].item()  \n",
    "\n",
    "# `img.unsqueeze` simply adds another dimension at the begining of the \n",
    "# 1x28x28 tensor, making it a 1x1x28x28 tensor, which the model views \n",
    "# as a batch containing a single image.\n",
    "\n",
    "# Let's try it out with a few images."
   ]
  },
  {
   "cell_type": "code",
   "execution_count": 69,
   "id": "3955b154",
   "metadata": {},
   "outputs": [
    {
     "name": "stdout",
     "output_type": "stream",
     "text": [
      "Label: 7 , Predicted: 7\n"
     ]
    },
    {
     "data": {
      "image/png": "[encoded data removed]",
      "text/plain": [
       "<Figure size 640x480 with 1 Axes>"
      ]
     },
     "metadata": {},
     "output_type": "display_data"
    }
   ],
   "source": [
    "img, label = test_dataset[0]\n",
    "plt.imshow(img[0], cmap='gray')\n",
    "print('Label:', label, ', Predicted:', predict_image(img, model))"
   ]
  },
  {
   "cell_type": "code",
   "execution_count": 70,
   "id": "5df1221a",
   "metadata": {},
   "outputs": [
    {
     "name": "stdout",
     "output_type": "stream",
     "text": [
      "Label: 0 , Predicted: 0\n"
     ]
    },
    {
     "data": {
      "image/png": "[encoded data removed]",
      "text/plain": [
       "<Figure size 640x480 with 1 Axes>"
      ]
     },
     "metadata": {},
     "output_type": "display_data"
    }
   ],
   "source": [
    "img, label = test_dataset[10]\n",
    "plt.imshow(img[0], cmap='gray')\n",
    "print('Label:', label, ', Predicted:', predict_image(img, model))"
   ]
  },
  {
   "cell_type": "code",
   "execution_count": 72,
   "id": "8ac8e9a3",
   "metadata": {},
   "outputs": [
    {
     "name": "stdout",
     "output_type": "stream",
     "text": [
      "Label: 4 , Predicted: 4\n"
     ]
    },
    {
     "data": {
      "image/png": "[encoded data removed]",
      "text/plain": [
       "<Figure size 640x480 with 1 Axes>"
      ]
     },
     "metadata": {},
     "output_type": "display_data"
    }
   ],
   "source": [
    "img, label = test_dataset[19]\n",
    "plt.imshow(img[0], cmap='gray')\n",
    "print('Label:', label, ', Predicted:', predict_image(img, model))"
   ]
  },
  {
   "cell_type": "code",
   "execution_count": 74,
   "id": "a7040aab",
   "metadata": {},
   "outputs": [
    {
     "name": "stdout",
     "output_type": "stream",
     "text": [
      "Label: 9 , Predicted: 4\n"
     ]
    },
    {
     "data": {
      "image/png": "[encoded data removed]",
      "text/plain": [
       "<Figure size 640x480 with 1 Axes>"
      ]
     },
     "metadata": {},
     "output_type": "display_data"
    }
   ],
   "source": [
    "img, label = test_dataset[193]\n",
    "plt.imshow(img[0], cmap='gray')\n",
    "print('Label:', label, ', Predicted:', predict_image(img, model))"
   ]
  },
  {
   "cell_type": "code",
   "execution_count": 76,
   "id": "2d9cc100",
   "metadata": {},
   "outputs": [
    {
     "data": {
      "text/plain": [
       "{'val_loss': 0.5887920260429382, 'val_acc': 0.8679786324501038}"
      ]
     },
     "execution_count": 76,
     "metadata": {},
     "output_type": "execute_result"
    }
   ],
   "source": [
    "test_loader = DataLoader(test_dataset, batch_size=128)\n",
    "result = evaluate(model, test_loader)\n",
    "result"
   ]
  },
  {
   "cell_type": "code",
   "execution_count": null,
   "id": "62b64199",
   "metadata": {},
   "outputs": [],
   "source": []
  }
 ],
 "metadata": {
  "kernelspec": {
   "display_name": "Python 3 (ipykernel)",
   "language": "python",
   "name": "python3"
  },
  "language_info": {
   "codemirror_mode": {
    "name": "ipython",
    "version": 3
   },
   "file_extension": ".py",
   "mimetype": "text/x-python",
   "name": "python",
   "nbconvert_exporter": "python",
   "pygments_lexer": "ipython3",
   "version": "3.11.4"
  }
 },
 "nbformat": 4,
 "nbformat_minor": 5
}
